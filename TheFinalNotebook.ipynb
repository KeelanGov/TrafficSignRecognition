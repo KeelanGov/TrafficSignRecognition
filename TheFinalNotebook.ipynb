{
 "cells": [
  {
   "cell_type": "markdown",
   "metadata": {},
   "source": [
    "# Final Notebook"
   ]
  },
  {
   "cell_type": "markdown",
   "metadata": {},
   "source": [
    "### Imports"
   ]
  },
  {
   "cell_type": "code",
   "execution_count": null,
   "metadata": {},
   "outputs": [],
   "source": [
    "import numpy as np \n",
    "import pandas as pd \n",
    "import matplotlib.pyplot as plt\n",
    "import tensorflow as tf\n",
    "import cv2\n",
    "import random\n",
    "from PIL import Image,ImageEnhance  \n",
    "import os\n",
    "from tensorflow import keras\n",
    "from tensorflow.keras.models import Sequential\n",
    "from tensorflow.keras.layers import *\n",
    "import seaborn as sns\n",
    "\n",
    "from tensorflow.keras.utils import plot_model\n",
    "from sklearn.metrics import accuracy_score\n",
    "\n",
    "#needed for transformation\n",
    "import imageio\n",
    "import imgaug as ia\n",
    "\n",
    "import imgaug.augmenters as iaa\n",
    "import random\n",
    "\n"
   ]
  },
  {
   "cell_type": "markdown",
   "metadata": {},
   "source": [
    "# Functions"
   ]
  },
  {
   "cell_type": "markdown",
   "metadata": {},
   "source": [
    "### Data augmentation"
   ]
  },
  {
   "cell_type": "code",
   "execution_count": null,
   "metadata": {},
   "outputs": [],
   "source": [
    "#input has to be of type image\n",
    "\n",
    "def random_rotation(image):\n",
    "    rotate=iaa.Affine(rotate=(-90,90))\n",
    "    rotated_image=rotate.augment_image(image)\n",
    "    image_from_array = Image.fromarray(rotated_image, 'RGB')\n",
    "    size_image = image_from_array.resize((32, 32))\n",
    "    size_image=size_image.convert('L')\n",
    "    return size_image\n",
    "\n",
    "def random_noise(image):\n",
    "    gaussian_noise=iaa.AdditiveGaussianNoise(10,20)\n",
    "    noise_image=gaussian_noise.augment_image(image)\n",
    "    image_from_array = Image.fromarray(noise_image, 'RGB')\n",
    "    size_image = image_from_array.resize((32, 32))\n",
    "    size_image=size_image.convert('L')\n",
    "    return size_image\n",
    "\n",
    "\n"
   ]
  },
  {
   "cell_type": "markdown",
   "metadata": {},
   "source": [
    "\n",
    "# Train Data\n"
   ]
  },
  {
   "cell_type": "code",
   "execution_count": null,
   "metadata": {},
   "outputs": [],
   "source": [
    "\n",
    "    \n",
    "# Reading the input images and putting them into a numpy array\n",
    "\n",
    "#this is for using random transformations\n",
    "available_transformations = {\n",
    "    'rotate': random_rotation,\n",
    "    'noise': random_noise}\n",
    "\n",
    "num_transformations_to_apply = random.randint(1, len(available_transformations))\n",
    "num_transformations = 0\n",
    "transformed_image = None\n",
    "\n",
    "data=[]\n",
    "labels=[]\n",
    "\n",
    "height = 32\n",
    "width = 32\n",
    "channels = 3\n",
    "classes = 43\n",
    "n_inputs = height * width*channels\n",
    "\n",
    "for i in range(classes) :\n",
    "    path = \"INSERT_PATH\".format(i)\n",
    "    #print(path)\n",
    "    Class=os.listdir(path)\n",
    "    for a in Class:\n",
    "        try:\n",
    "            \n",
    "            image=cv2.imread(path+a)\n",
    "            image_from_array = Image.fromarray(image, 'RGB') \n",
    "            size_image = image_from_array.resize((height, width))\n",
    "            \n",
    "            #Converting to grayscale and applying sharpness\n",
    "            size_image=size_image.convert('L')\n",
    "            enh=ImageEnhance.Sharpness(size_image)\n",
    "            data.append(np.array(enh.enhance(2.0)))\n",
    "            labels.append(i) \n",
    "   \n",
    "\n",
    "            #random transformation\n",
    "            key = random.choice(list(available_transformations))\n",
    "            transformed_image = available_transformations[key](image)\n",
    "            \n",
    "            #adding augmented image\n",
    "            data.append(np.array(transformed_image))\n",
    "            labels.append(i)\n",
    "            \n",
    "            \n",
    "        except AttributeError:\n",
    "            print(\" \")\n",
    "            \n",
    "Cells=np.array(data)\n",
    "labels=np.array(labels)\n",
    "\n",
    "#Randomize the order of the input images\n",
    "s=np.arange(Cells.shape[0])\n",
    "np.random.seed(43)\n",
    "np.random.shuffle(s)\n",
    "Cells=Cells[s]\n",
    "labels=labels[s]\n",
    "\n",
    "n=0\n",
    "while n <= 10:\n",
    "    ia.imshow(data[n])\n",
    "    n= n+1"
   ]
  },
  {
   "cell_type": "markdown",
   "metadata": {},
   "source": [
    "# Splitting Data"
   ]
  },
  {
   "cell_type": "code",
   "execution_count": null,
   "metadata": {},
   "outputs": [],
   "source": [
    "(X_train,X_val)=Cells[(int)(0.2*len(labels)):],Cells[:(int)(0.2*len(labels))]\n",
    "X_train = X_train.astype('float32')/255 \n",
    "X_val = X_val.astype('float32')/255\n",
    "(y_train,y_val)=labels[(int)(0.2*len(labels)):],labels[:(int)(0.2*len(labels))]"
   ]
  },
  {
   "cell_type": "code",
   "execution_count": null,
   "metadata": {},
   "outputs": [],
   "source": [
    " fig = sns.distplot(y_train, kde=False, bins = 43, hist = True, hist_kws=dict(edgecolor=\"black\", linewidth=2))\n",
    "fig.set(title = \"Traffic signs frequency graph\",\n",
    "        xlabel = \"ClassId\",\n",
    "        ylabel = \"Frequency\")\n",
    "X_train.shape[0]\n"
   ]
  },
  {
   "cell_type": "code",
   "execution_count": null,
   "metadata": {},
   "outputs": [],
   "source": [
    "from keras.utils import to_categorical\n",
    "y_train = to_categorical(y_train, 43)\n",
    "y_val = to_categorical(y_val, 43)"
   ]
  },
  {
   "cell_type": "markdown",
   "metadata": {},
   "source": [
    "# Visualisation of Data Set"
   ]
  },
  {
   "cell_type": "markdown",
   "metadata": {},
   "source": [
    "# Test Data"
   ]
  },
  {
   "cell_type": "code",
   "execution_count": null,
   "metadata": {},
   "outputs": [],
   "source": [
    "\n",
    "y_test=pd.read_csv(\"C:/Users/user-pc/Documents/Advanced Machine Learning/gtsrb-german-traffic-sign/Test.csv\")\n",
    "labels=y_test['Path'].to_numpy()\n",
    "y_test=y_test['ClassId'].values\n",
    "\n",
    "data=[]\n",
    "\n",
    "for f in labels:\n",
    "    image=cv2.imread('C:/Users/user-pc/Documents/Advanced Machine Learning/gtsrb-german-traffic-sign/test/'+f.replace('Test/', ''))\n",
    "    image_from_array = Image.fromarray(image, 'RGB')\n",
    "    size_image = image_from_array.resize((height, width))\n",
    "    \n",
    "     #Converting to grayscale and applying sharpness\n",
    "    size_image=size_image.convert('L')\n",
    "    enh=ImageEnhance.Sharpness(size_image)\n",
    "    data.append(np.array(enh.enhance(2.0)))\n",
    "    \n",
    "            \n",
    "  \n",
    "   \n",
    "X_test=np.array(data)\n",
    "X_test = X_test.astype('float32')/255 \n",
    "\n",
    "i=0\n",
    "while i <= 10:\n",
    "    ia.imshow(data[i])\n",
    "    i=i+1\n"
   ]
  },
  {
   "cell_type": "code",
   "execution_count": null,
   "metadata": {},
   "outputs": [],
   "source": []
  },
  {
   "cell_type": "code",
   "execution_count": null,
   "metadata": {},
   "outputs": [],
   "source": [
    "fig2 = sns.distplot(y_test, kde=False, bins = 43, hist = True, hist_kws=dict(edgecolor=\"black\", linewidth=2))\n",
    "fig2.set(title = \"Traffic signs frequency graph\",\n",
    "        xlabel = \"ClassId\",\n",
    "        ylabel = \"Frequency\")"
   ]
  },
  {
   "cell_type": "markdown",
   "metadata": {},
   "source": [
    "# Preprocessing"
   ]
  },
  {
   "cell_type": "code",
   "execution_count": null,
   "metadata": {},
   "outputs": [],
   "source": [
    "#grayscale images \n",
    "\n",
    "X_train = np.reshape(X_train,(X_train.shape[0],32,32,1))\n",
    "X_val = np.reshape(X_val,(X_val.shape[0],32,32,1))\n",
    "X_test = np.reshape(X_test,(X_test.shape[0],32,32,1))\n",
    "\n"
   ]
  },
  {
   "cell_type": "code",
   "execution_count": null,
   "metadata": {},
   "outputs": [],
   "source": [
    "#amount of training samples\n",
    "X_train.shape[0]"
   ]
  },
  {
   "cell_type": "markdown",
   "metadata": {},
   "source": [
    "# Model Creation"
   ]
  },
  {
   "cell_type": "code",
   "execution_count": null,
   "metadata": {},
   "outputs": [],
   "source": [
    "model = keras.Sequential([  \n",
    "    Conv2D(filters=32, kernel_size=(5,5), activation='relu', input_shape=X_train.shape[1:]),\n",
    "    Dropout(0.4),\n",
    "    MaxPooling2D(pool_size=(2,2), strides=(2,2),padding='same',),\n",
    "\n",
    "    Conv2D(filters=64, kernel_size=(5,5), activation='relu'),\n",
    "    Dropout(0.3),\n",
    "    MaxPooling2D(pool_size=(2,2), strides=(2,2)),\n",
    "    \n",
    "\n",
    "\n",
    "    Flatten(),\n",
    "    \n",
    "    Dense(units=1024, activation='relu'),\n",
    "    Dropout(0.2),\n",
    "\n",
    "    Dense(units=43, activation = 'softmax')\n",
    "])"
   ]
  },
  {
   "cell_type": "code",
   "execution_count": null,
   "metadata": {
    "scrolled": false
   },
   "outputs": [],
   "source": [
    "model.summary()"
   ]
  },
  {
   "cell_type": "code",
   "execution_count": null,
   "metadata": {},
   "outputs": [],
   "source": [
    "model.compile(optimizer='adam', \n",
    "              loss='categorical_crossentropy',\n",
    "              metrics=['accuracy'])\n"
   ]
  },
  {
   "cell_type": "markdown",
   "metadata": {},
   "source": [
    "# Training"
   ]
  },
  {
   "cell_type": "code",
   "execution_count": null,
   "metadata": {},
   "outputs": [],
   "source": [
    "vis=model.fit(X_train,y_train,epochs=30,validation_data=(X_val, y_val))"
   ]
  },
  {
   "cell_type": "code",
   "execution_count": null,
   "metadata": {},
   "outputs": [],
   "source": [
    "plt.figure(0)\n",
    "plt.plot(vis.history['accuracy'], label='training accuracy')\n",
    "plt.plot(vis.history['val_accuracy'], label='val accuracy')\n",
    "plt.title('Accuracy')\n",
    "plt.xlabel('epochs')\n",
    "plt.ylabel('accuracy')\n",
    "plt.legend()\n",
    "\n",
    "plt.figure(1)\n",
    "plt.plot(vis.history['loss'], label='training loss')\n",
    "plt.plot(vis.history['val_loss'], label='val loss')\n",
    "plt.title('Loss')\n",
    "plt.xlabel('epochs')\n",
    "plt.ylabel('loss')\n",
    "plt.legend()"
   ]
  },
  {
   "cell_type": "markdown",
   "metadata": {},
   "source": [
    "# Testing"
   ]
  },
  {
   "cell_type": "code",
   "execution_count": null,
   "metadata": {},
   "outputs": [],
   "source": [
    "pred = model.predict_classes(X_test)"
   ]
  },
  {
   "cell_type": "code",
   "execution_count": null,
   "metadata": {},
   "outputs": [],
   "source": [
    "accuracy_score(y_test, pred)"
   ]
  },
  {
   "cell_type": "markdown",
   "metadata": {},
   "source": [
    "# Testing on Random images"
   ]
  },
  {
   "cell_type": "code",
   "execution_count": null,
   "metadata": {},
   "outputs": [],
   "source": [
    "images = []\n",
    "for filename in os.listdir(\"C:/Users/user-pc/Downloads/Images-20200527T224630Z-001/Images\"):\n",
    "    img = cv2.imread(os.path.join(\"C:/Users/user-pc/Downloads/Images-20200527T224630Z-001/Images\", filename))\n",
    "    img=Image.fromarray(img, 'RGB')\n",
    "    img = img.resize((32, 32))\n",
    "    img=img.convert('L')\n",
    "    plt.show(img)\n",
    "    images.append(np.array(img))\n",
    "    \n",
    "new_img= np.array(images)   \n",
    "new_img = new_img.astype('float32')/255\n"
   ]
  },
  {
   "cell_type": "code",
   "execution_count": null,
   "metadata": {},
   "outputs": [],
   "source": [
    "new_img = np.reshape(new_img,(new_img.shape[0],32,32,1))\n",
    "\n",
    "class_pred = [3,13,17,28,14]"
   ]
  },
  {
   "cell_type": "code",
   "execution_count": null,
   "metadata": {},
   "outputs": [],
   "source": [
    "pred = model.predict_classes(new_img)"
   ]
  },
  {
   "cell_type": "code",
   "execution_count": null,
   "metadata": {},
   "outputs": [],
   "source": [
    "print(pred)"
   ]
  },
  {
   "cell_type": "code",
   "execution_count": null,
   "metadata": {},
   "outputs": [],
   "source": [
    "accuracy_score(class_pred, pred)"
   ]
  },
  {
   "cell_type": "code",
   "execution_count": null,
   "metadata": {},
   "outputs": [],
   "source": []
  }
 ],
 "metadata": {
  "kernelspec": {
   "display_name": "Python 3",
   "language": "python",
   "name": "python3"
  },
  "language_info": {
   "codemirror_mode": {
    "name": "ipython",
    "version": 3
   },
   "file_extension": ".py",
   "mimetype": "text/x-python",
   "name": "python",
   "nbconvert_exporter": "python",
   "pygments_lexer": "ipython3",
   "version": "3.7.3"
  }
 },
 "nbformat": 4,
 "nbformat_minor": 4
}
